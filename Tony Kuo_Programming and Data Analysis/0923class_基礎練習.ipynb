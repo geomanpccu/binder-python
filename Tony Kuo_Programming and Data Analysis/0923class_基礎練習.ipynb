{
 "cells": [
  {
   "cell_type": "code",
   "execution_count": 40,
   "id": "1cc1e86c",
   "metadata": {},
   "outputs": [
    {
     "data": {
      "text/plain": [
       "'\\n    How to properly use jiFundtion \\n    1.函數回會參數進行調整\\n    2.使用的是函數還是番訪?\\n    3.結果是如何更新的?\\n'"
      ]
     },
     "execution_count": 40,
     "metadata": {},
     "output_type": "execute_result"
    }
   ],
   "source": [
    "##練習用函數來作為未來呼叫的方式。\n",
    "\"\"\"\n",
    "    How to properly use jiFundtion \n",
    "    1.函數回會參數進行調整\n",
    "    2.使用的是函數還是番訪?\n",
    "    3.結果是如何更新的?\n",
    "\"\"\""
   ]
  },
  {
   "cell_type": "code",
   "execution_count": 7,
   "id": "5b036030",
   "metadata": {},
   "outputs": [],
   "source": [
    "def add(x,y):\n",
    "    \"\"\"\n",
    "    adds two numbers #這邊是文字註記，\n",
    "    \"\"\"\n",
    "    return x+y\n",
    "\n",
    "help(add) \n",
    "\n",
    "add(55,66)"
   ]
  },
  {
   "cell_type": "code",
   "execution_count": 4,
   "id": "10e5a23e",
   "metadata": {},
   "outputs": [],
   "source": [
    "def subtract(x,y):\n",
    "    \"\"\"\n",
    "    subtract two numbers #這邊是文字註記，\n",
    "    \"\"\"\n",
    "    return x-y\n",
    "\n",
    "subtract(55,66)"
   ]
  },
  {
   "cell_type": "code",
   "execution_count": 17,
   "id": "87a4186f",
   "metadata": {},
   "outputs": [
    {
     "data": {
      "text/plain": [
       "1"
      ]
     },
     "execution_count": 17,
     "metadata": {},
     "output_type": "execute_result"
    }
   ],
   "source": [
    "3%2"
   ]
  },
  {
   "cell_type": "code",
   "execution_count": 24,
   "id": "a404babd",
   "metadata": {},
   "outputs": [
    {
     "name": "stdout",
     "output_type": "stream",
     "text": [
      "0.0\n",
      "100.0\n"
     ]
    }
   ],
   "source": [
    "#轉換華氏成攝氏, def 後面是函數的名稱\n",
    "def from_fatrenheit_to_celsius(f):\n",
    "    c=(f-32)*5/9\n",
    "    return c\n",
    "\n",
    "#兩個以上要用print，不然只會有呈現最後一個執行程式的結果\n",
    "print(from_fatrenheit_to_celsius(32))\n",
    "print(from_fatrenheit_to_celsius(212))"
   ]
  },
  {
   "cell_type": "code",
   "execution_count": 35,
   "id": "f27b6a7c",
   "metadata": {},
   "outputs": [
    {
     "data": {
      "text/plain": [
       "[3, 8, 24, 46, 55]"
      ]
     },
     "execution_count": 35,
     "metadata": {},
     "output_type": "execute_result"
    }
   ],
   "source": [
    "# 數字排列\n",
    "a_list_to_be_sorted=[3,55,8,46,24]\n",
    "sorted(a_list_to_be_sorted)"
   ]
  },
  {
   "cell_type": "code",
   "execution_count": 32,
   "id": "50476693",
   "metadata": {},
   "outputs": [
    {
     "data": {
      "text/plain": [
       "[55, 46, 24, 8, 3]"
      ]
     },
     "execution_count": 32,
     "metadata": {},
     "output_type": "execute_result"
    }
   ],
   "source": [
    "sorted(a_list_to_be_sorted, reverse=True)"
   ]
  },
  {
   "cell_type": "code",
   "execution_count": 37,
   "id": "35db48c7",
   "metadata": {},
   "outputs": [
    {
     "name": "stdout",
     "output_type": "stream",
     "text": [
      "[55, 46, 24, 8, 3]\n"
     ]
    }
   ],
   "source": [
    "#another way \n",
    "a_list_to_be_sorted.sort(reverse=True)\n",
    "print(a_list_to_be_sorted)"
   ]
  },
  {
   "cell_type": "code",
   "execution_count": null,
   "id": "b401472c",
   "metadata": {},
   "outputs": [],
   "source": []
  }
 ],
 "metadata": {
  "kernelspec": {
   "display_name": "Python 3 (ipykernel)",
   "language": "python",
   "name": "python3"
  },
  "language_info": {
   "codemirror_mode": {
    "name": "ipython",
    "version": 3
   },
   "file_extension": ".py",
   "mimetype": "text/x-python",
   "name": "python",
   "nbconvert_exporter": "python",
   "pygments_lexer": "ipython3",
   "version": "3.7.10"
  }
 },
 "nbformat": 4,
 "nbformat_minor": 5
}
